{
 "cells": [
  {
   "cell_type": "code",
   "execution_count": 1,
   "id": "d6fc5927-a232-4cb7-8c7a-8cd637230735",
   "metadata": {},
   "outputs": [],
   "source": [
    "import pandas as pd\n",
    "import numpy as np\n",
    "import seaborn as sns\n",
    "import plotly.express as px\n",
    "from matplotlib import pyplot as plt\n",
    "from sklearn.model_selection import train_test_split\n",
    "from sklearn.linear_model import LogisticRegression\n",
    "from sklearn.metrics import classification_report, accuracy_score\n",
    "from sklearn.linear_model import LogisticRegression\n",
    "from sklearn.tree import DecisionTreeClassifier\n",
    "from sklearn.ensemble import RandomForestClassifier\n"
   ]
  },
  {
   "cell_type": "markdown",
   "id": "d00f3123-6363-4b7f-af7b-24af1db16a43",
   "metadata": {},
   "source": [
    "# Read the dataset"
   ]
  },
  {
   "cell_type": "code",
   "execution_count": 3,
   "id": "f44742b3-964d-4dde-932c-9967bc2aa3db",
   "metadata": {},
   "outputs": [],
   "source": [
    "df1=pd.read_excel(r\"C:\\Users\\rjbs1\\Downloads\\mxmh_survey_results (1) (2).xlsx\")"
   ]
  },
  {
   "cell_type": "code",
   "execution_count": 4,
   "id": "75ad8406-1f27-439b-a385-acaefa2e53f7",
   "metadata": {},
   "outputs": [
    {
     "data": {
      "text/html": [
       "<div>\n",
       "<style scoped>\n",
       "    .dataframe tbody tr th:only-of-type {\n",
       "        vertical-align: middle;\n",
       "    }\n",
       "\n",
       "    .dataframe tbody tr th {\n",
       "        vertical-align: top;\n",
       "    }\n",
       "\n",
       "    .dataframe thead th {\n",
       "        text-align: right;\n",
       "    }\n",
       "</style>\n",
       "<table border=\"1\" class=\"dataframe\">\n",
       "  <thead>\n",
       "    <tr style=\"text-align: right;\">\n",
       "      <th></th>\n",
       "      <th>Timestamp</th>\n",
       "      <th>Age</th>\n",
       "      <th>Primary streaming service</th>\n",
       "      <th>Hours per day</th>\n",
       "      <th>While working</th>\n",
       "      <th>Instrumentalist</th>\n",
       "      <th>Composer</th>\n",
       "      <th>Exploratory</th>\n",
       "      <th>Foreign languages</th>\n",
       "      <th>BPM</th>\n",
       "      <th>...</th>\n",
       "      <th>Fav genre_Jazz</th>\n",
       "      <th>Fav genre_K pop</th>\n",
       "      <th>Fav genre_Latin</th>\n",
       "      <th>Fav genre_Lofi</th>\n",
       "      <th>Fav genre_Metal</th>\n",
       "      <th>Fav genre_Pop</th>\n",
       "      <th>Fav genre_R&amp;B</th>\n",
       "      <th>Fav genre_Rap</th>\n",
       "      <th>Fav genre_Rock</th>\n",
       "      <th>Fav genre_Video game music</th>\n",
       "    </tr>\n",
       "  </thead>\n",
       "  <tbody>\n",
       "    <tr>\n",
       "      <th>0</th>\n",
       "      <td>2022-08-27 19:29:02</td>\n",
       "      <td>18.0</td>\n",
       "      <td>Spotify</td>\n",
       "      <td>3.0</td>\n",
       "      <td>Yes</td>\n",
       "      <td>Yes</td>\n",
       "      <td>Yes</td>\n",
       "      <td>Yes</td>\n",
       "      <td>Yes</td>\n",
       "      <td>156.0</td>\n",
       "      <td>...</td>\n",
       "      <td>0</td>\n",
       "      <td>0</td>\n",
       "      <td>1</td>\n",
       "      <td>0</td>\n",
       "      <td>0</td>\n",
       "      <td>0</td>\n",
       "      <td>0</td>\n",
       "      <td>0</td>\n",
       "      <td>0</td>\n",
       "      <td>0</td>\n",
       "    </tr>\n",
       "    <tr>\n",
       "      <th>1</th>\n",
       "      <td>2022-08-27 19:57:31</td>\n",
       "      <td>63.0</td>\n",
       "      <td>Pandora</td>\n",
       "      <td>1.5</td>\n",
       "      <td>Yes</td>\n",
       "      <td>No</td>\n",
       "      <td>No</td>\n",
       "      <td>Yes</td>\n",
       "      <td>No</td>\n",
       "      <td>119.0</td>\n",
       "      <td>...</td>\n",
       "      <td>0</td>\n",
       "      <td>0</td>\n",
       "      <td>0</td>\n",
       "      <td>0</td>\n",
       "      <td>0</td>\n",
       "      <td>0</td>\n",
       "      <td>0</td>\n",
       "      <td>0</td>\n",
       "      <td>1</td>\n",
       "      <td>0</td>\n",
       "    </tr>\n",
       "    <tr>\n",
       "      <th>2</th>\n",
       "      <td>2022-08-27 21:28:18</td>\n",
       "      <td>18.0</td>\n",
       "      <td>Spotify</td>\n",
       "      <td>4.0</td>\n",
       "      <td>No</td>\n",
       "      <td>No</td>\n",
       "      <td>No</td>\n",
       "      <td>No</td>\n",
       "      <td>Yes</td>\n",
       "      <td>132.0</td>\n",
       "      <td>...</td>\n",
       "      <td>0</td>\n",
       "      <td>0</td>\n",
       "      <td>0</td>\n",
       "      <td>0</td>\n",
       "      <td>0</td>\n",
       "      <td>0</td>\n",
       "      <td>0</td>\n",
       "      <td>0</td>\n",
       "      <td>0</td>\n",
       "      <td>1</td>\n",
       "    </tr>\n",
       "    <tr>\n",
       "      <th>3</th>\n",
       "      <td>2022-08-27 21:40:40</td>\n",
       "      <td>61.0</td>\n",
       "      <td>YouTube Music</td>\n",
       "      <td>2.5</td>\n",
       "      <td>Yes</td>\n",
       "      <td>No</td>\n",
       "      <td>Yes</td>\n",
       "      <td>Yes</td>\n",
       "      <td>Yes</td>\n",
       "      <td>84.0</td>\n",
       "      <td>...</td>\n",
       "      <td>1</td>\n",
       "      <td>0</td>\n",
       "      <td>0</td>\n",
       "      <td>0</td>\n",
       "      <td>0</td>\n",
       "      <td>0</td>\n",
       "      <td>0</td>\n",
       "      <td>0</td>\n",
       "      <td>0</td>\n",
       "      <td>0</td>\n",
       "    </tr>\n",
       "    <tr>\n",
       "      <th>4</th>\n",
       "      <td>2022-08-27 21:54:47</td>\n",
       "      <td>18.0</td>\n",
       "      <td>Spotify</td>\n",
       "      <td>4.0</td>\n",
       "      <td>Yes</td>\n",
       "      <td>No</td>\n",
       "      <td>No</td>\n",
       "      <td>Yes</td>\n",
       "      <td>No</td>\n",
       "      <td>107.0</td>\n",
       "      <td>...</td>\n",
       "      <td>0</td>\n",
       "      <td>0</td>\n",
       "      <td>0</td>\n",
       "      <td>0</td>\n",
       "      <td>0</td>\n",
       "      <td>0</td>\n",
       "      <td>1</td>\n",
       "      <td>0</td>\n",
       "      <td>0</td>\n",
       "      <td>0</td>\n",
       "    </tr>\n",
       "    <tr>\n",
       "      <th>5</th>\n",
       "      <td>2022-08-27 21:56:50</td>\n",
       "      <td>18.0</td>\n",
       "      <td>Spotify</td>\n",
       "      <td>5.0</td>\n",
       "      <td>Yes</td>\n",
       "      <td>Yes</td>\n",
       "      <td>Yes</td>\n",
       "      <td>Yes</td>\n",
       "      <td>Yes</td>\n",
       "      <td>86.0</td>\n",
       "      <td>...</td>\n",
       "      <td>1</td>\n",
       "      <td>0</td>\n",
       "      <td>0</td>\n",
       "      <td>0</td>\n",
       "      <td>0</td>\n",
       "      <td>0</td>\n",
       "      <td>0</td>\n",
       "      <td>0</td>\n",
       "      <td>0</td>\n",
       "      <td>0</td>\n",
       "    </tr>\n",
       "    <tr>\n",
       "      <th>6</th>\n",
       "      <td>2022-08-27 22:00:29</td>\n",
       "      <td>18.0</td>\n",
       "      <td>YouTube Music</td>\n",
       "      <td>3.0</td>\n",
       "      <td>Yes</td>\n",
       "      <td>Yes</td>\n",
       "      <td>No</td>\n",
       "      <td>Yes</td>\n",
       "      <td>Yes</td>\n",
       "      <td>66.0</td>\n",
       "      <td>...</td>\n",
       "      <td>0</td>\n",
       "      <td>0</td>\n",
       "      <td>0</td>\n",
       "      <td>0</td>\n",
       "      <td>0</td>\n",
       "      <td>0</td>\n",
       "      <td>0</td>\n",
       "      <td>0</td>\n",
       "      <td>0</td>\n",
       "      <td>1</td>\n",
       "    </tr>\n",
       "    <tr>\n",
       "      <th>7</th>\n",
       "      <td>2022-08-27 22:18:59</td>\n",
       "      <td>21.0</td>\n",
       "      <td>Spotify</td>\n",
       "      <td>1.0</td>\n",
       "      <td>Yes</td>\n",
       "      <td>No</td>\n",
       "      <td>No</td>\n",
       "      <td>Yes</td>\n",
       "      <td>Yes</td>\n",
       "      <td>95.0</td>\n",
       "      <td>...</td>\n",
       "      <td>0</td>\n",
       "      <td>1</td>\n",
       "      <td>0</td>\n",
       "      <td>0</td>\n",
       "      <td>0</td>\n",
       "      <td>0</td>\n",
       "      <td>0</td>\n",
       "      <td>0</td>\n",
       "      <td>0</td>\n",
       "      <td>0</td>\n",
       "    </tr>\n",
       "    <tr>\n",
       "      <th>8</th>\n",
       "      <td>2022-08-27 22:33:05</td>\n",
       "      <td>19.0</td>\n",
       "      <td>Spotify</td>\n",
       "      <td>6.0</td>\n",
       "      <td>Yes</td>\n",
       "      <td>No</td>\n",
       "      <td>No</td>\n",
       "      <td>No</td>\n",
       "      <td>No</td>\n",
       "      <td>94.0</td>\n",
       "      <td>...</td>\n",
       "      <td>0</td>\n",
       "      <td>0</td>\n",
       "      <td>0</td>\n",
       "      <td>0</td>\n",
       "      <td>0</td>\n",
       "      <td>0</td>\n",
       "      <td>0</td>\n",
       "      <td>0</td>\n",
       "      <td>1</td>\n",
       "      <td>0</td>\n",
       "    </tr>\n",
       "    <tr>\n",
       "      <th>9</th>\n",
       "      <td>2022-08-27 22:44:03</td>\n",
       "      <td>18.0</td>\n",
       "      <td>I do not use a streaming service.</td>\n",
       "      <td>1.0</td>\n",
       "      <td>Yes</td>\n",
       "      <td>No</td>\n",
       "      <td>No</td>\n",
       "      <td>Yes</td>\n",
       "      <td>Yes</td>\n",
       "      <td>155.0</td>\n",
       "      <td>...</td>\n",
       "      <td>0</td>\n",
       "      <td>0</td>\n",
       "      <td>0</td>\n",
       "      <td>0</td>\n",
       "      <td>0</td>\n",
       "      <td>0</td>\n",
       "      <td>1</td>\n",
       "      <td>0</td>\n",
       "      <td>0</td>\n",
       "      <td>0</td>\n",
       "    </tr>\n",
       "    <tr>\n",
       "      <th>10</th>\n",
       "      <td>2022-08-27 22:51:15</td>\n",
       "      <td>18.0</td>\n",
       "      <td>Spotify</td>\n",
       "      <td>3.0</td>\n",
       "      <td>Yes</td>\n",
       "      <td>Yes</td>\n",
       "      <td>No</td>\n",
       "      <td>Yes</td>\n",
       "      <td>No</td>\n",
       "      <td>NaN</td>\n",
       "      <td>...</td>\n",
       "      <td>0</td>\n",
       "      <td>0</td>\n",
       "      <td>0</td>\n",
       "      <td>0</td>\n",
       "      <td>0</td>\n",
       "      <td>0</td>\n",
       "      <td>0</td>\n",
       "      <td>0</td>\n",
       "      <td>0</td>\n",
       "      <td>0</td>\n",
       "    </tr>\n",
       "    <tr>\n",
       "      <th>11</th>\n",
       "      <td>2022-08-27 23:00:32</td>\n",
       "      <td>19.0</td>\n",
       "      <td>YouTube Music</td>\n",
       "      <td>8.0</td>\n",
       "      <td>Yes</td>\n",
       "      <td>No</td>\n",
       "      <td>No</td>\n",
       "      <td>Yes</td>\n",
       "      <td>No</td>\n",
       "      <td>125.0</td>\n",
       "      <td>...</td>\n",
       "      <td>0</td>\n",
       "      <td>0</td>\n",
       "      <td>0</td>\n",
       "      <td>0</td>\n",
       "      <td>0</td>\n",
       "      <td>0</td>\n",
       "      <td>0</td>\n",
       "      <td>0</td>\n",
       "      <td>0</td>\n",
       "      <td>0</td>\n",
       "    </tr>\n",
       "    <tr>\n",
       "      <th>12</th>\n",
       "      <td>2022-08-27 23:04:00</td>\n",
       "      <td>NaN</td>\n",
       "      <td>Spotify</td>\n",
       "      <td>3.0</td>\n",
       "      <td>Yes</td>\n",
       "      <td>No</td>\n",
       "      <td>No</td>\n",
       "      <td>Yes</td>\n",
       "      <td>Yes</td>\n",
       "      <td>NaN</td>\n",
       "      <td>...</td>\n",
       "      <td>0</td>\n",
       "      <td>0</td>\n",
       "      <td>0</td>\n",
       "      <td>0</td>\n",
       "      <td>0</td>\n",
       "      <td>0</td>\n",
       "      <td>0</td>\n",
       "      <td>0</td>\n",
       "      <td>0</td>\n",
       "      <td>0</td>\n",
       "    </tr>\n",
       "    <tr>\n",
       "      <th>13</th>\n",
       "      <td>2022-08-27 23:12:03</td>\n",
       "      <td>19.0</td>\n",
       "      <td>Spotify</td>\n",
       "      <td>2.0</td>\n",
       "      <td>Yes</td>\n",
       "      <td>No</td>\n",
       "      <td>No</td>\n",
       "      <td>Yes</td>\n",
       "      <td>No</td>\n",
       "      <td>88.0</td>\n",
       "      <td>...</td>\n",
       "      <td>0</td>\n",
       "      <td>0</td>\n",
       "      <td>0</td>\n",
       "      <td>0</td>\n",
       "      <td>0</td>\n",
       "      <td>0</td>\n",
       "      <td>0</td>\n",
       "      <td>0</td>\n",
       "      <td>0</td>\n",
       "      <td>0</td>\n",
       "    </tr>\n",
       "    <tr>\n",
       "      <th>14</th>\n",
       "      <td>2022-08-27 23:16:06</td>\n",
       "      <td>18.0</td>\n",
       "      <td>Spotify</td>\n",
       "      <td>4.0</td>\n",
       "      <td>Yes</td>\n",
       "      <td>Yes</td>\n",
       "      <td>No</td>\n",
       "      <td>Yes</td>\n",
       "      <td>Yes</td>\n",
       "      <td>148.0</td>\n",
       "      <td>...</td>\n",
       "      <td>1</td>\n",
       "      <td>0</td>\n",
       "      <td>0</td>\n",
       "      <td>0</td>\n",
       "      <td>0</td>\n",
       "      <td>0</td>\n",
       "      <td>0</td>\n",
       "      <td>0</td>\n",
       "      <td>0</td>\n",
       "      <td>0</td>\n",
       "    </tr>\n",
       "    <tr>\n",
       "      <th>15</th>\n",
       "      <td>2022-08-27 23:19:52</td>\n",
       "      <td>17.0</td>\n",
       "      <td>Spotify</td>\n",
       "      <td>2.0</td>\n",
       "      <td>No</td>\n",
       "      <td>No</td>\n",
       "      <td>No</td>\n",
       "      <td>Yes</td>\n",
       "      <td>Yes</td>\n",
       "      <td>NaN</td>\n",
       "      <td>...</td>\n",
       "      <td>0</td>\n",
       "      <td>0</td>\n",
       "      <td>0</td>\n",
       "      <td>0</td>\n",
       "      <td>0</td>\n",
       "      <td>1</td>\n",
       "      <td>0</td>\n",
       "      <td>0</td>\n",
       "      <td>0</td>\n",
       "      <td>0</td>\n",
       "    </tr>\n",
       "    <tr>\n",
       "      <th>16</th>\n",
       "      <td>2022-08-27 23:39:41</td>\n",
       "      <td>16.0</td>\n",
       "      <td>Spotify</td>\n",
       "      <td>8.0</td>\n",
       "      <td>Yes</td>\n",
       "      <td>No</td>\n",
       "      <td>No</td>\n",
       "      <td>Yes</td>\n",
       "      <td>Yes</td>\n",
       "      <td>103.0</td>\n",
       "      <td>...</td>\n",
       "      <td>0</td>\n",
       "      <td>0</td>\n",
       "      <td>0</td>\n",
       "      <td>0</td>\n",
       "      <td>0</td>\n",
       "      <td>0</td>\n",
       "      <td>0</td>\n",
       "      <td>0</td>\n",
       "      <td>0</td>\n",
       "      <td>0</td>\n",
       "    </tr>\n",
       "    <tr>\n",
       "      <th>17</th>\n",
       "      <td>2022-08-27 23:39:49</td>\n",
       "      <td>16.0</td>\n",
       "      <td>Spotify</td>\n",
       "      <td>12.0</td>\n",
       "      <td>Yes</td>\n",
       "      <td>No</td>\n",
       "      <td>Yes</td>\n",
       "      <td>Yes</td>\n",
       "      <td>Yes</td>\n",
       "      <td>120.0</td>\n",
       "      <td>...</td>\n",
       "      <td>0</td>\n",
       "      <td>0</td>\n",
       "      <td>0</td>\n",
       "      <td>0</td>\n",
       "      <td>0</td>\n",
       "      <td>0</td>\n",
       "      <td>0</td>\n",
       "      <td>0</td>\n",
       "      <td>0</td>\n",
       "      <td>0</td>\n",
       "    </tr>\n",
       "    <tr>\n",
       "      <th>18</th>\n",
       "      <td>2022-08-27 23:40:55</td>\n",
       "      <td>17.0</td>\n",
       "      <td>Spotify</td>\n",
       "      <td>24.0</td>\n",
       "      <td>Yes</td>\n",
       "      <td>No</td>\n",
       "      <td>No</td>\n",
       "      <td>Yes</td>\n",
       "      <td>No</td>\n",
       "      <td>99.0</td>\n",
       "      <td>...</td>\n",
       "      <td>0</td>\n",
       "      <td>0</td>\n",
       "      <td>0</td>\n",
       "      <td>0</td>\n",
       "      <td>0</td>\n",
       "      <td>0</td>\n",
       "      <td>0</td>\n",
       "      <td>1</td>\n",
       "      <td>0</td>\n",
       "      <td>0</td>\n",
       "    </tr>\n",
       "    <tr>\n",
       "      <th>19</th>\n",
       "      <td>2022-08-27 23:41:36</td>\n",
       "      <td>15.0</td>\n",
       "      <td>Spotify</td>\n",
       "      <td>3.0</td>\n",
       "      <td>No</td>\n",
       "      <td>No</td>\n",
       "      <td>No</td>\n",
       "      <td>No</td>\n",
       "      <td>No</td>\n",
       "      <td>120.0</td>\n",
       "      <td>...</td>\n",
       "      <td>0</td>\n",
       "      <td>0</td>\n",
       "      <td>0</td>\n",
       "      <td>0</td>\n",
       "      <td>0</td>\n",
       "      <td>0</td>\n",
       "      <td>0</td>\n",
       "      <td>0</td>\n",
       "      <td>0</td>\n",
       "      <td>0</td>\n",
       "    </tr>\n",
       "  </tbody>\n",
       "</table>\n",
       "<p>20 rows × 47 columns</p>\n",
       "</div>"
      ],
      "text/plain": [
       "             Timestamp   Age          Primary streaming service  \\\n",
       "0  2022-08-27 19:29:02  18.0                            Spotify   \n",
       "1  2022-08-27 19:57:31  63.0                            Pandora   \n",
       "2  2022-08-27 21:28:18  18.0                            Spotify   \n",
       "3  2022-08-27 21:40:40  61.0                      YouTube Music   \n",
       "4  2022-08-27 21:54:47  18.0                            Spotify   \n",
       "5  2022-08-27 21:56:50  18.0                            Spotify   \n",
       "6  2022-08-27 22:00:29  18.0                      YouTube Music   \n",
       "7  2022-08-27 22:18:59  21.0                            Spotify   \n",
       "8  2022-08-27 22:33:05  19.0                            Spotify   \n",
       "9  2022-08-27 22:44:03  18.0  I do not use a streaming service.   \n",
       "10 2022-08-27 22:51:15  18.0                            Spotify   \n",
       "11 2022-08-27 23:00:32  19.0                      YouTube Music   \n",
       "12 2022-08-27 23:04:00   NaN                            Spotify   \n",
       "13 2022-08-27 23:12:03  19.0                            Spotify   \n",
       "14 2022-08-27 23:16:06  18.0                            Spotify   \n",
       "15 2022-08-27 23:19:52  17.0                            Spotify   \n",
       "16 2022-08-27 23:39:41  16.0                            Spotify   \n",
       "17 2022-08-27 23:39:49  16.0                            Spotify   \n",
       "18 2022-08-27 23:40:55  17.0                            Spotify   \n",
       "19 2022-08-27 23:41:36  15.0                            Spotify   \n",
       "\n",
       "    Hours per day While working Instrumentalist Composer Exploratory  \\\n",
       "0             3.0           Yes             Yes      Yes         Yes   \n",
       "1             1.5           Yes              No       No         Yes   \n",
       "2             4.0            No              No       No          No   \n",
       "3             2.5           Yes              No      Yes         Yes   \n",
       "4             4.0           Yes              No       No         Yes   \n",
       "5             5.0           Yes             Yes      Yes         Yes   \n",
       "6             3.0           Yes             Yes       No         Yes   \n",
       "7             1.0           Yes              No       No         Yes   \n",
       "8             6.0           Yes              No       No          No   \n",
       "9             1.0           Yes              No       No         Yes   \n",
       "10            3.0           Yes             Yes       No         Yes   \n",
       "11            8.0           Yes              No       No         Yes   \n",
       "12            3.0           Yes              No       No         Yes   \n",
       "13            2.0           Yes              No       No         Yes   \n",
       "14            4.0           Yes             Yes       No         Yes   \n",
       "15            2.0            No              No       No         Yes   \n",
       "16            8.0           Yes              No       No         Yes   \n",
       "17           12.0           Yes              No      Yes         Yes   \n",
       "18           24.0           Yes              No       No         Yes   \n",
       "19            3.0            No              No       No          No   \n",
       "\n",
       "   Foreign languages    BPM  ... Fav genre_Jazz Fav genre_K pop  \\\n",
       "0                Yes  156.0  ...              0               0   \n",
       "1                 No  119.0  ...              0               0   \n",
       "2                Yes  132.0  ...              0               0   \n",
       "3                Yes   84.0  ...              1               0   \n",
       "4                 No  107.0  ...              0               0   \n",
       "5                Yes   86.0  ...              1               0   \n",
       "6                Yes   66.0  ...              0               0   \n",
       "7                Yes   95.0  ...              0               1   \n",
       "8                 No   94.0  ...              0               0   \n",
       "9                Yes  155.0  ...              0               0   \n",
       "10                No    NaN  ...              0               0   \n",
       "11                No  125.0  ...              0               0   \n",
       "12               Yes    NaN  ...              0               0   \n",
       "13                No   88.0  ...              0               0   \n",
       "14               Yes  148.0  ...              1               0   \n",
       "15               Yes    NaN  ...              0               0   \n",
       "16               Yes  103.0  ...              0               0   \n",
       "17               Yes  120.0  ...              0               0   \n",
       "18                No   99.0  ...              0               0   \n",
       "19                No  120.0  ...              0               0   \n",
       "\n",
       "   Fav genre_Latin Fav genre_Lofi Fav genre_Metal Fav genre_Pop Fav genre_R&B  \\\n",
       "0                1              0               0             0             0   \n",
       "1                0              0               0             0             0   \n",
       "2                0              0               0             0             0   \n",
       "3                0              0               0             0             0   \n",
       "4                0              0               0             0             1   \n",
       "5                0              0               0             0             0   \n",
       "6                0              0               0             0             0   \n",
       "7                0              0               0             0             0   \n",
       "8                0              0               0             0             0   \n",
       "9                0              0               0             0             1   \n",
       "10               0              0               0             0             0   \n",
       "11               0              0               0             0             0   \n",
       "12               0              0               0             0             0   \n",
       "13               0              0               0             0             0   \n",
       "14               0              0               0             0             0   \n",
       "15               0              0               0             1             0   \n",
       "16               0              0               0             0             0   \n",
       "17               0              0               0             0             0   \n",
       "18               0              0               0             0             0   \n",
       "19               0              0               0             0             0   \n",
       "\n",
       "   Fav genre_Rap Fav genre_Rock Fav genre_Video game music  \n",
       "0              0              0                          0  \n",
       "1              0              1                          0  \n",
       "2              0              0                          1  \n",
       "3              0              0                          0  \n",
       "4              0              0                          0  \n",
       "5              0              0                          0  \n",
       "6              0              0                          1  \n",
       "7              0              0                          0  \n",
       "8              0              1                          0  \n",
       "9              0              0                          0  \n",
       "10             0              0                          0  \n",
       "11             0              0                          0  \n",
       "12             0              0                          0  \n",
       "13             0              0                          0  \n",
       "14             0              0                          0  \n",
       "15             0              0                          0  \n",
       "16             0              0                          0  \n",
       "17             0              0                          0  \n",
       "18             1              0                          0  \n",
       "19             0              0                          0  \n",
       "\n",
       "[20 rows x 47 columns]"
      ]
     },
     "execution_count": 4,
     "metadata": {},
     "output_type": "execute_result"
    }
   ],
   "source": [
    "df1.head(20)"
   ]
  },
  {
   "cell_type": "code",
   "execution_count": 5,
   "id": "885fb6f0-9ca7-4f5a-b3c5-81d58cc0f65d",
   "metadata": {},
   "outputs": [
    {
     "name": "stdout",
     "output_type": "stream",
     "text": [
      "<class 'pandas.core.frame.DataFrame'>\n",
      "RangeIndex: 736 entries, 0 to 735\n",
      "Data columns (total 47 columns):\n",
      " #   Column                        Non-Null Count  Dtype         \n",
      "---  ------                        --------------  -----         \n",
      " 0   Timestamp                     736 non-null    datetime64[ns]\n",
      " 1   Age                           735 non-null    float64       \n",
      " 2   Primary streaming service     735 non-null    object        \n",
      " 3   Hours per day                 736 non-null    float64       \n",
      " 4   While working                 733 non-null    object        \n",
      " 5   Instrumentalist               732 non-null    object        \n",
      " 6   Composer                      735 non-null    object        \n",
      " 7   Exploratory                   736 non-null    object        \n",
      " 8   Foreign languages             732 non-null    object        \n",
      " 9   BPM                           629 non-null    float64       \n",
      " 10  Frequency [Classical]         736 non-null    object        \n",
      " 11  Frequency [Country]           736 non-null    object        \n",
      " 12  Frequency [EDM]               736 non-null    object        \n",
      " 13  Frequency [Folk]              736 non-null    object        \n",
      " 14  Frequency [Gospel]            736 non-null    object        \n",
      " 15  Frequency [Hip hop]           736 non-null    object        \n",
      " 16  Frequency [Jazz]              736 non-null    object        \n",
      " 17  Frequency [K pop]             736 non-null    object        \n",
      " 18  Frequency [Latin]             736 non-null    object        \n",
      " 19  Frequency [Lofi]              736 non-null    object        \n",
      " 20  Frequency [Metal]             736 non-null    object        \n",
      " 21  Frequency [Pop]               736 non-null    object        \n",
      " 22  Frequency [R&B]               736 non-null    object        \n",
      " 23  Frequency [Rap]               736 non-null    object        \n",
      " 24  Frequency [Rock]              736 non-null    object        \n",
      " 25  Frequency [Video game music]  736 non-null    object        \n",
      " 26  Anxiety                       736 non-null    int64         \n",
      " 27  Depression                    736 non-null    int64         \n",
      " 28  Insomnia                      736 non-null    int64         \n",
      " 29  OCD                           736 non-null    int64         \n",
      " 30  Music effects                 730 non-null    float64       \n",
      " 31  Permissions                   736 non-null    object        \n",
      " 32  Fav genre_Country             736 non-null    int64         \n",
      " 33  Fav genre_EDM                 736 non-null    int64         \n",
      " 34  Fav genre_Folk                736 non-null    int64         \n",
      " 35  Fav genre_Gospel              736 non-null    int64         \n",
      " 36  Fav genre_Hip hop             736 non-null    int64         \n",
      " 37  Fav genre_Jazz                736 non-null    int64         \n",
      " 38  Fav genre_K pop               736 non-null    int64         \n",
      " 39  Fav genre_Latin               736 non-null    int64         \n",
      " 40  Fav genre_Lofi                736 non-null    int64         \n",
      " 41  Fav genre_Metal               736 non-null    int64         \n",
      " 42  Fav genre_Pop                 736 non-null    int64         \n",
      " 43  Fav genre_R&B                 736 non-null    int64         \n",
      " 44  Fav genre_Rap                 736 non-null    int64         \n",
      " 45  Fav genre_Rock                736 non-null    int64         \n",
      " 46  Fav genre_Video game music    736 non-null    int64         \n",
      "dtypes: datetime64[ns](1), float64(4), int64(19), object(23)\n",
      "memory usage: 270.4+ KB\n"
     ]
    }
   ],
   "source": [
    "df1.info()"
   ]
  },
  {
   "cell_type": "code",
   "execution_count": 6,
   "id": "44e4aeda-292c-4e8f-bbd8-716b98c34ddb",
   "metadata": {},
   "outputs": [
    {
     "data": {
      "text/plain": [
       "Index(['Timestamp', 'Age', 'Primary streaming service', 'Hours per day',\n",
       "       'While working', 'Instrumentalist', 'Composer', 'Exploratory',\n",
       "       'Foreign languages', 'BPM', 'Frequency [Classical]',\n",
       "       'Frequency [Country]', 'Frequency [EDM]', 'Frequency [Folk]',\n",
       "       'Frequency [Gospel]', 'Frequency [Hip hop]', 'Frequency [Jazz]',\n",
       "       'Frequency [K pop]', 'Frequency [Latin]', 'Frequency [Lofi]',\n",
       "       'Frequency [Metal]', 'Frequency [Pop]', 'Frequency [R&B]',\n",
       "       'Frequency [Rap]', 'Frequency [Rock]', 'Frequency [Video game music]',\n",
       "       'Anxiety', 'Depression', 'Insomnia', 'OCD', 'Music effects',\n",
       "       'Permissions', 'Fav genre_Country', 'Fav genre_EDM', 'Fav genre_Folk',\n",
       "       'Fav genre_Gospel', 'Fav genre_Hip hop', 'Fav genre_Jazz',\n",
       "       'Fav genre_K pop', 'Fav genre_Latin', 'Fav genre_Lofi',\n",
       "       'Fav genre_Metal', 'Fav genre_Pop', 'Fav genre_R&B', 'Fav genre_Rap',\n",
       "       'Fav genre_Rock', 'Fav genre_Video game music'],\n",
       "      dtype='object')"
      ]
     },
     "execution_count": 6,
     "metadata": {},
     "output_type": "execute_result"
    }
   ],
   "source": [
    "df1.columns"
   ]
  },
  {
   "cell_type": "markdown",
   "id": "a387a82e-b9bb-4108-9057-5a9e491cb2bb",
   "metadata": {},
   "source": [
    "# EDA"
   ]
  },
  {
   "cell_type": "code",
   "execution_count": 7,
   "id": "26e85291-4498-47fa-8a87-890af3476941",
   "metadata": {},
   "outputs": [
    {
     "name": "stderr",
     "output_type": "stream",
     "text": [
      "C:\\Users\\rjbs1\\anaconda3\\Lib\\site-packages\\seaborn\\_oldcore.py:1119: FutureWarning: use_inf_as_na option is deprecated and will be removed in a future version. Convert inf values to NaN before operating instead.\n",
      "  with pd.option_context('mode.use_inf_as_na', True):\n"
     ]
    },
    {
     "data": {
      "image/png": "[encoded data removed]",
      "text/plain": [
       "<Figure size 640x480 with 1 Axes>"
      ]
     },
     "metadata": {},
     "output_type": "display_data"
    }
   ],
   "source": [
    "df1.columns = df1.columns.str.strip()\n",
    "\n",
    "# Ensure 'Hours per day' is a column in your DataFrame\n",
    "if 'Hours per day' in df1.columns:\n",
    "    sns.histplot(data=df1, x='Hours per day', kde=True)\n",
    "    plt.title('Listening habits - Hours per day')\n",
    "    plt.show()"
   ]
  },
  {
   "cell_type": "code",
   "execution_count": 8,
   "id": "ca7e4e96-cb60-4384-a985-27d5f3270bd3",
   "metadata": {},
   "outputs": [
    {
     "name": "stderr",
     "output_type": "stream",
     "text": [
      "C:\\Users\\rjbs1\\anaconda3\\Lib\\site-packages\\seaborn\\_oldcore.py:1119: FutureWarning: use_inf_as_na option is deprecated and will be removed in a future version. Convert inf values to NaN before operating instead.\n",
      "  with pd.option_context('mode.use_inf_as_na', True):\n"
     ]
    },
    {
     "data": {
      "image/png": "[encoded data removed]",
      "text/plain": [
       "<Figure size 640x480 with 1 Axes>"
      ]
     },
     "metadata": {},
     "output_type": "display_data"
    }
   ],
   "source": [
    "df1.columns = df1.columns.str.strip()\n",
    "\n",
    "# Ensure 'Hours per day' is a column in your DataFrame\n",
    "if 'Age' in df1.columns:\n",
    "    sns.histplot(data=df1, x='Age', kde=True)\n",
    "    plt.title(\"Respondents' Age\")\n",
    "    plt.show()"
   ]
  },
  {
   "cell_type": "code",
   "execution_count": 9,
   "id": "330420da-a16e-4f85-a1af-a7aa54721145",
   "metadata": {},
   "outputs": [
    {
     "data": {
      "image/png": "[encoded data removed]",
      "text/plain": [
       "<Figure size 640x480 with 1 Axes>"
      ]
     },
     "metadata": {},
     "output_type": "display_data"
    }
   ],
   "source": [
    "df_streaming_servies = df1['Primary streaming service'].value_counts().reset_index()\n",
    "palette_color = ['#8e44ad', '#3498db', '#e74c3c', '#1abc9c','#66b3ff','#99ff99']\n",
    "plt.pie(df_streaming_servies['count'], labels=df_streaming_servies['Primary streaming service'], colors= palette_color, autopct='%.0f%%')\n",
    "plt.title('Most popular primary streaming service')\n",
    "plt.show() "
   ]
  },
  {
   "cell_type": "code",
   "execution_count": 14,
   "id": "1ec09ad7-a9ff-4f61-9bd1-aa03bb3ceb15",
   "metadata": {},
   "outputs": [
    {
     "data": {
      "image/png": "[encoded data removed]",
      "text/plain": [
       "<Figure size 640x480 with 1 Axes>"
      ]
     },
     "metadata": {},
     "output_type": "display_data"
    }
   ],
   "source": [
    "df_while_working = df1['While working'].value_counts().reset_index()\n",
    "plt.pie(df_while_working['count'], labels=df_while_working['While working'],colors= palette_color, autopct='%.0f%%')\n",
    "plt.title(\"Pie chart for percentage of people who listened to music while working or not\")\n",
    "plt.show()"
   ]
  },
  {
   "cell_type": "code",
   "execution_count": 15,
   "id": "d3b6e2cd-5173-4a01-a9ca-1de5d4a8dd14",
   "metadata": {},
   "outputs": [
    {
     "data": {
      "image/png": "[encoded data removed]",
      "text/plain": [
       "<Figure size 640x480 with 1 Axes>"
      ]
     },
     "metadata": {},
     "output_type": "display_data"
    }
   ],
   "source": [
    "#1.0 represents improve and 0.0 represents worsen or no effect\n",
    "df_music_effect = df1['Music effects'].value_counts().reset_index()\n",
    "plt.pie(df_music_effect['count'], labels=df_music_effect['Music effects'],colors= palette_color, autopct='%.0f%%')\n",
    "plt.title(\"Music effect\")\n",
    "plt.show()"
   ]
  },
  {
   "cell_type": "markdown",
   "id": "a905d798-6ec7-4fa8-95f3-9ab2b5d5c4df",
   "metadata": {},
   "source": [
    "# Assign columns to X and Y"
   ]
  },
  {
   "cell_type": "code",
   "execution_count": 16,
   "id": "7bee5cf6-87a6-4009-bac5-758168d765ec",
   "metadata": {},
   "outputs": [],
   "source": [
    "y = df1['Music effects']\n",
    "one_hot_encoded_genres_columns = df1.filter(like='Fav genre_').columns\n",
    "X = df1[[ 'Anxiety', 'Depression', 'Insomnia', 'OCD'] + list(one_hot_encoded_genres_columns)]\n",
    "X_train, X_test, y_train, y_test = train_test_split(X, y, test_size=0.2, random_state=42)"
   ]
  },
  {
   "cell_type": "code",
   "execution_count": 17,
   "id": "a2114386-005c-4873-a1a9-7a1fbfcf259f",
   "metadata": {},
   "outputs": [
    {
     "data": {
      "text/plain": [
       "(     Anxiety  Depression  Insomnia  OCD  Fav genre_Country  Fav genre_EDM  \\\n",
       " 135        1           0         1    1                  0              0   \n",
       " 545        1           0         0    0                  0              0   \n",
       " 497        1           1         0    0                  0              0   \n",
       " 340        0           1         0    0                  0              0   \n",
       " 165        1           0         0    0                  0              0   \n",
       " ..       ...         ...       ...  ...                ...            ...   \n",
       " 71         1           0         0    1                  0              0   \n",
       " 106        1           1         1    0                  0              0   \n",
       " 270        0           0         0    1                  0              0   \n",
       " 435        1           1         1    1                  0              0   \n",
       " 102        1           1         1    1                  0              0   \n",
       " \n",
       "      Fav genre_Folk  Fav genre_Gospel  Fav genre_Hip hop  Fav genre_Jazz  \\\n",
       " 135               0                 0                  0               0   \n",
       " 545               0                 0                  0               0   \n",
       " 497               0                 0                  1               0   \n",
       " 340               0                 0                  1               0   \n",
       " 165               0                 0                  0               0   \n",
       " ..              ...               ...                ...             ...   \n",
       " 71                0                 0                  0               0   \n",
       " 106               0                 0                  0               0   \n",
       " 270               0                 0                  0               0   \n",
       " 435               0                 0                  0               0   \n",
       " 102               0                 0                  0               0   \n",
       " \n",
       "      Fav genre_K pop  Fav genre_Latin  Fav genre_Lofi  Fav genre_Metal  \\\n",
       " 135                0                0               0                0   \n",
       " 545                0                0               0                0   \n",
       " 497                0                0               0                0   \n",
       " 340                0                0               0                0   \n",
       " 165                0                0               0                1   \n",
       " ..               ...              ...             ...              ...   \n",
       " 71                 0                0               0                0   \n",
       " 106                0                0               0                0   \n",
       " 270                0                0               0                0   \n",
       " 435                1                0               0                0   \n",
       " 102                0                0               0                1   \n",
       " \n",
       "      Fav genre_Pop  Fav genre_R&B  Fav genre_Rap  Fav genre_Rock  \\\n",
       " 135              0              0              0               0   \n",
       " 545              0              0              1               0   \n",
       " 497              0              0              0               0   \n",
       " 340              0              0              0               0   \n",
       " 165              0              0              0               0   \n",
       " ..             ...            ...            ...             ...   \n",
       " 71               0              0              0               1   \n",
       " 106              1              0              0               0   \n",
       " 270              0              0              0               1   \n",
       " 435              0              0              0               0   \n",
       " 102              0              0              0               0   \n",
       " \n",
       "      Fav genre_Video game music  \n",
       " 135                           1  \n",
       " 545                           0  \n",
       " 497                           0  \n",
       " 340                           0  \n",
       " 165                           0  \n",
       " ..                          ...  \n",
       " 71                            0  \n",
       " 106                           0  \n",
       " 270                           0  \n",
       " 435                           0  \n",
       " 102                           0  \n",
       " \n",
       " [588 rows x 19 columns],\n",
       " 135    1.0\n",
       " 545    1.0\n",
       " 497    1.0\n",
       " 340    1.0\n",
       " 165    0.0\n",
       "       ... \n",
       " 71     0.0\n",
       " 106    0.0\n",
       " 270    1.0\n",
       " 435    0.0\n",
       " 102    0.0\n",
       " Name: Music effects, Length: 588, dtype: float64)"
      ]
     },
     "execution_count": 17,
     "metadata": {},
     "output_type": "execute_result"
    }
   ],
   "source": [
    "X_train, y_train"
   ]
  },
  {
   "cell_type": "code",
   "execution_count": 73,
   "id": "b8cf2abd-28de-4e2f-868f-989e808141df",
   "metadata": {},
   "outputs": [],
   "source": [
    "non_null_indices = ~np.isnan(y_train)\n",
    "\n",
    "# Use the non-null indices to filter X_train and y_train\n",
    "X_train = X_train[non_null_indices]\n",
    "y_train = y_train[non_null_indices]"
   ]
  },
  {
   "cell_type": "markdown",
   "id": "fa490576-16bb-4ed3-b631-4a0f7e7df790",
   "metadata": {},
   "source": [
    "# Training and evaluating classifiers"
   ]
  },
  {
   "cell_type": "code",
   "execution_count": 74,
   "id": "4d8f5cb2-398b-4924-b2ec-fb7f61bbac0a",
   "metadata": {},
   "outputs": [
    {
     "name": "stdout",
     "output_type": "stream",
     "text": [
      "Confusion matrix for Logistic Regression: \n",
      " [[  0  35]\n",
      " [  0 113]]\n",
      "Logistic Regression Accuracy:76.35%\n",
      "              precision    recall  f1-score   support\n",
      "\n",
      "         0.0       0.00      0.00      0.00        35\n",
      "         1.0       0.76      1.00      0.87       113\n",
      "\n",
      "    accuracy                           0.76       148\n",
      "   macro avg       0.38      0.50      0.43       148\n",
      "weighted avg       0.58      0.76      0.66       148\n",
      "\n",
      "..........................................................................\n",
      "Confusion matrix for Decision Tree: \n",
      " [[  7  28]\n",
      " [  9 104]]\n",
      "Decision Tree Accuracy:75.00%\n",
      "              precision    recall  f1-score   support\n",
      "\n",
      "         0.0       0.44      0.20      0.27        35\n",
      "         1.0       0.79      0.92      0.85       113\n",
      "\n",
      "    accuracy                           0.75       148\n",
      "   macro avg       0.61      0.56      0.56       148\n",
      "weighted avg       0.71      0.75      0.71       148\n",
      "\n",
      "..........................................................................\n",
      "Confusion matrix for Random Forest: \n",
      " [[  6  29]\n",
      " [  5 108]]\n",
      "Random Forest Accuracy:77.03%\n",
      "              precision    recall  f1-score   support\n",
      "\n",
      "         0.0       0.55      0.17      0.26        35\n",
      "         1.0       0.79      0.96      0.86       113\n",
      "\n",
      "    accuracy                           0.77       148\n",
      "   macro avg       0.67      0.56      0.56       148\n",
      "weighted avg       0.73      0.77      0.72       148\n",
      "\n",
      "..........................................................................\n"
     ]
    },
    {
     "name": "stderr",
     "output_type": "stream",
     "text": [
      "C:\\Users\\rjbs1\\anaconda3\\Lib\\site-packages\\sklearn\\metrics\\_classification.py:1344: UndefinedMetricWarning: Precision and F-score are ill-defined and being set to 0.0 in labels with no predicted samples. Use `zero_division` parameter to control this behavior.\n",
      "  _warn_prf(average, modifier, msg_start, len(result))\n",
      "C:\\Users\\rjbs1\\anaconda3\\Lib\\site-packages\\sklearn\\metrics\\_classification.py:1344: UndefinedMetricWarning: Precision and F-score are ill-defined and being set to 0.0 in labels with no predicted samples. Use `zero_division` parameter to control this behavior.\n",
      "  _warn_prf(average, modifier, msg_start, len(result))\n",
      "C:\\Users\\rjbs1\\anaconda3\\Lib\\site-packages\\sklearn\\metrics\\_classification.py:1344: UndefinedMetricWarning: Precision and F-score are ill-defined and being set to 0.0 in labels with no predicted samples. Use `zero_division` parameter to control this behavior.\n",
      "  _warn_prf(average, modifier, msg_start, len(result))\n"
     ]
    },
    {
     "name": "stdout",
     "output_type": "stream",
     "text": [
      "Confusion matrix for Support Vector Machine: \n",
      " [[  1  34]\n",
      " [  0 113]]\n",
      "Support Vector Machine Accuracy:77.03%\n",
      "              precision    recall  f1-score   support\n",
      "\n",
      "         0.0       1.00      0.03      0.06        35\n",
      "         1.0       0.77      1.00      0.87       113\n",
      "\n",
      "    accuracy                           0.77       148\n",
      "   macro avg       0.88      0.51      0.46       148\n",
      "weighted avg       0.82      0.77      0.68       148\n",
      "\n",
      "..........................................................................\n",
      "Confusion matrix for K-Nearest Neighbors: \n",
      " [[  6  29]\n",
      " [ 12 101]]\n",
      "K-Nearest Neighbors Accuracy:72.30%\n",
      "              precision    recall  f1-score   support\n",
      "\n",
      "         0.0       0.33      0.17      0.23        35\n",
      "         1.0       0.78      0.89      0.83       113\n",
      "\n",
      "    accuracy                           0.72       148\n",
      "   macro avg       0.56      0.53      0.53       148\n",
      "weighted avg       0.67      0.72      0.69       148\n",
      "\n",
      "..........................................................................\n"
     ]
    }
   ],
   "source": [
    "y_train = np.nan_to_num(y_train)\n",
    "from sklearn.metrics import confusion_matrix, ConfusionMatrixDisplay\n",
    "results={}\n",
    "classifiers = {\n",
    "    \"Logistic Regression\": LogisticRegression(max_iter=1000),\n",
    "    \"Decision Tree\": DecisionTreeClassifier(),\n",
    "    \"Random Forest\": RandomForestClassifier(),\n",
    "    \"Support Vector Machine\": SVC(),\n",
    "    \"K-Nearest Neighbors\": KNeighborsClassifier()\n",
    "}\n",
    "for name, clf in classifiers.items():\n",
    "    clf.fit(X_train,y_train)\n",
    "    y_pred=clf.predict(X_test)\n",
    "    cm=confusion_matrix(y_test,y_pred)\n",
    "    print(f\"Confusion matrix for {name}: \\n\",cm)\n",
    "    accuracy=accuracy_score(y_test,y_pred)\n",
    "    results[name]=accuracy\n",
    "    print(f\"{name} Accuracy:{accuracy*100:.2f}%\")\n",
    "    print(classification_report(y_test,y_pred))\n",
    "    print(\"..........................................................................\")"
   ]
  },
  {
   "cell_type": "code",
   "execution_count": 75,
   "id": "2111cdc1-f063-4a7f-bccf-4d55d51e6b2b",
   "metadata": {},
   "outputs": [],
   "source": [
    "model = DecisionTreeClassifier(random_state=42)"
   ]
  },
  {
   "cell_type": "code",
   "execution_count": 76,
   "id": "88150c01-2a95-4f3f-a1e4-23336d3fa8fd",
   "metadata": {},
   "outputs": [
    {
     "data": {
      "text/plain": [
       "array([1., 1., 1., 1., 0., 1., 1., 0., 1., 0., 1., 0., 1., 1., 0., 1., 1.,\n",
       "       1., 1., 0., 1., 0., 1., 0., 0., 0., 1., 1., 1., 1., 1., 0., 1., 1.,\n",
       "       1., 0., 1., 0., 1., 1., 1., 0., 1., 1., 1., 1., 1., 1., 1., 0., 1.,\n",
       "       1., 1., 1., 1., 1., 1., 1., 0., 1., 1., 1., 1., 1., 1., 0., 1., 1.,\n",
       "       1., 1., 0., 0., 1., 0., 1., 1., 1., 1., 1., 0., 0., 0., 1., 1., 1.,\n",
       "       0., 0., 1., 1., 0., 0., 1., 1., 1., 1., 0., 1., 1., 1., 1., 1., 0.,\n",
       "       1., 1., 1., 1., 1., 1., 0., 1., 1., 1., 1., 1., 1., 1., 1., 0., 0.,\n",
       "       0., 0., 1., 0., 1., 0., 0., 1., 0., 1., 0., 1., 0., 1., 1., 1., 1.,\n",
       "       1., 1., 1., 1., 1., 0., 0., 0., 1., 1., 1., 1., 1., 1., 0., 0., 1.,\n",
       "       1., 0., 1., 1., 0., 1., 1., 1., 1., 1., 1., 0., 0., 0., 1., 1., 1.,\n",
       "       1., 1., 0., 0., 1., 1., 1., 1., 1., 1., 1., 1., 0., 1., 1., 1., 0.,\n",
       "       0., 1., 1., 1., 1., 1., 1., 1., 1., 1., 1., 0., 1., 1., 1., 1., 1.,\n",
       "       1., 1., 1., 1., 1., 1., 1., 1., 0., 1., 0., 1., 0., 1., 0., 1., 0.,\n",
       "       1., 1., 1., 1., 0., 1., 1., 1., 0., 1., 1., 1., 1., 0., 1., 1., 1.,\n",
       "       1., 1., 1., 0., 1., 0., 1., 1., 1., 1., 1., 1., 0., 0., 1., 1., 1.,\n",
       "       1., 0., 1., 1., 1., 1., 1., 0., 0., 1., 1., 1., 1., 1., 1., 1., 1.,\n",
       "       0., 0., 1., 1., 1., 0., 1., 0., 1., 1., 1., 1., 1., 1., 1., 1., 1.,\n",
       "       1., 1., 1., 0., 1., 1., 1., 1., 1., 1., 1., 1., 0., 1., 0., 1., 1.,\n",
       "       1., 0., 0., 1., 0., 1., 1., 1., 1., 1., 0., 0., 1., 1., 0., 1., 0.,\n",
       "       1., 1., 1., 1., 1., 1., 1., 1., 1., 0., 1., 1., 1., 1., 1., 1., 0.,\n",
       "       1., 1., 0., 0., 0., 1., 0., 1., 1., 0., 1., 1., 1., 1., 1., 1., 1.,\n",
       "       0., 1., 1., 0., 1., 1., 1., 1., 1., 1., 1., 1., 1., 1., 1., 0., 1.,\n",
       "       1., 1., 1., 1., 0., 1., 0., 1., 1., 1., 1., 0., 1., 1., 1., 1., 1.,\n",
       "       1., 1., 1., 1., 1., 0., 0., 1., 0., 0., 1., 1., 0., 0., 1., 1., 1.,\n",
       "       1., 0., 1., 1., 1., 1., 1., 1., 1., 0., 1., 0., 0., 0., 0., 1., 1.,\n",
       "       0., 0., 1., 1., 1., 1., 0., 1., 1., 1., 1., 1., 1., 1., 1., 0., 1.,\n",
       "       0., 1., 1., 1., 1., 1., 1., 1., 0., 1., 1., 1., 1., 1., 0., 1., 1.,\n",
       "       1., 1., 1., 1., 1., 1., 0., 1., 1., 1., 1., 1., 1., 1., 1., 1., 1.,\n",
       "       1., 1., 1., 1., 0., 0., 0., 1., 0., 0., 0., 1., 0., 1., 1., 1., 0.,\n",
       "       1., 1., 1., 0., 1., 1., 1., 0., 0., 1., 1., 0., 0., 1., 1., 1., 1.,\n",
       "       1., 1., 0., 1., 0., 0., 1., 1., 1., 0., 0., 1., 1., 1., 0., 0., 1.,\n",
       "       1., 1., 1., 1., 0., 1., 1., 1., 1., 0., 1., 0., 1., 0., 1., 1., 0.,\n",
       "       1., 1., 1., 1., 1., 1., 1., 1., 1., 0., 1., 0., 1., 1., 0., 1., 1.,\n",
       "       1., 0., 1., 1., 1., 1., 1., 1., 0., 1., 1., 1., 1., 1., 1., 0., 0.,\n",
       "       0., 1., 0., 0.])"
      ]
     },
     "execution_count": 76,
     "metadata": {},
     "output_type": "execute_result"
    }
   ],
   "source": [
    "y_train"
   ]
  },
  {
   "cell_type": "markdown",
   "id": "28eabc73-177a-4d42-95c0-f3530b0f2f7a",
   "metadata": {},
   "source": [
    "# Training the model using logistic regression"
   ]
  },
  {
   "cell_type": "code",
   "execution_count": 100,
   "id": "4fcbf4be-821d-4769-b709-faf7fbf6b209",
   "metadata": {},
   "outputs": [
    {
     "data": {
      "text/html": [
       "<style>#sk-container-id-8 {color: black;background-color: white;}#sk-container-id-8 pre{padding: 0;}#sk-container-id-8 div.sk-toggleable {background-color: white;}#sk-container-id-8 label.sk-toggleable__label {cursor: pointer;display: block;width: 100%;margin-bottom: 0;padding: 0.3em;box-sizing: border-box;text-align: center;}#sk-container-id-8 label.sk-toggleable__label-arrow:before {content: \"▸\";float: left;margin-right: 0.25em;color: #696969;}#sk-container-id-8 label.sk-toggleable__label-arrow:hover:before {color: black;}#sk-container-id-8 div.sk-estimator:hover label.sk-toggleable__label-arrow:before {color: black;}#sk-container-id-8 div.sk-toggleable__content {max-height: 0;max-width: 0;overflow: hidden;text-align: left;background-color: #f0f8ff;}#sk-container-id-8 div.sk-toggleable__content pre {margin: 0.2em;color: black;border-radius: 0.25em;background-color: #f0f8ff;}#sk-container-id-8 input.sk-toggleable__control:checked~div.sk-toggleable__content {max-height: 200px;max-width: 100%;overflow: auto;}#sk-container-id-8 input.sk-toggleable__control:checked~label.sk-toggleable__label-arrow:before {content: \"▾\";}#sk-container-id-8 div.sk-estimator input.sk-toggleable__control:checked~label.sk-toggleable__label {background-color: #d4ebff;}#sk-container-id-8 div.sk-label input.sk-toggleable__control:checked~label.sk-toggleable__label {background-color: #d4ebff;}#sk-container-id-8 input.sk-hidden--visually {border: 0;clip: rect(1px 1px 1px 1px);clip: rect(1px, 1px, 1px, 1px);height: 1px;margin: -1px;overflow: hidden;padding: 0;position: absolute;width: 1px;}#sk-container-id-8 div.sk-estimator {font-family: monospace;background-color: #f0f8ff;border: 1px dotted black;border-radius: 0.25em;box-sizing: border-box;margin-bottom: 0.5em;}#sk-container-id-8 div.sk-estimator:hover {background-color: #d4ebff;}#sk-container-id-8 div.sk-parallel-item::after {content: \"\";width: 100%;border-bottom: 1px solid gray;flex-grow: 1;}#sk-container-id-8 div.sk-label:hover label.sk-toggleable__label {background-color: #d4ebff;}#sk-container-id-8 div.sk-serial::before {content: \"\";position: absolute;border-left: 1px solid gray;box-sizing: border-box;top: 0;bottom: 0;left: 50%;z-index: 0;}#sk-container-id-8 div.sk-serial {display: flex;flex-direction: column;align-items: center;background-color: white;padding-right: 0.2em;padding-left: 0.2em;position: relative;}#sk-container-id-8 div.sk-item {position: relative;z-index: 1;}#sk-container-id-8 div.sk-parallel {display: flex;align-items: stretch;justify-content: center;background-color: white;position: relative;}#sk-container-id-8 div.sk-item::before, #sk-container-id-8 div.sk-parallel-item::before {content: \"\";position: absolute;border-left: 1px solid gray;box-sizing: border-box;top: 0;bottom: 0;left: 50%;z-index: -1;}#sk-container-id-8 div.sk-parallel-item {display: flex;flex-direction: column;z-index: 1;position: relative;background-color: white;}#sk-container-id-8 div.sk-parallel-item:first-child::after {align-self: flex-end;width: 50%;}#sk-container-id-8 div.sk-parallel-item:last-child::after {align-self: flex-start;width: 50%;}#sk-container-id-8 div.sk-parallel-item:only-child::after {width: 0;}#sk-container-id-8 div.sk-dashed-wrapped {border: 1px dashed gray;margin: 0 0.4em 0.5em 0.4em;box-sizing: border-box;padding-bottom: 0.4em;background-color: white;}#sk-container-id-8 div.sk-label label {font-family: monospace;font-weight: bold;display: inline-block;line-height: 1.2em;}#sk-container-id-8 div.sk-label-container {text-align: center;}#sk-container-id-8 div.sk-container {/* jupyter's `normalize.less` sets `[hidden] { display: none; }` but bootstrap.min.css set `[hidden] { display: none !important; }` so we also need the `!important` here to be able to override the default hidden behavior on the sphinx rendered scikit-learn.org. See: https://github.com/scikit-learn/scikit-learn/issues/21755 */display: inline-block !important;position: relative;}#sk-container-id-8 div.sk-text-repr-fallback {display: none;}</style><div id=\"sk-container-id-8\" class=\"sk-top-container\"><div class=\"sk-text-repr-fallback\"><pre>LogisticRegression(max_iter=1000)</pre><b>In a Jupyter environment, please rerun this cell to show the HTML representation or trust the notebook. <br />On GitHub, the HTML representation is unable to render, please try loading this page with nbviewer.org.</b></div><div class=\"sk-container\" hidden><div class=\"sk-item\"><div class=\"sk-estimator sk-toggleable\"><input class=\"sk-toggleable__control sk-hidden--visually\" id=\"sk-estimator-id-8\" type=\"checkbox\" checked><label for=\"sk-estimator-id-8\" class=\"sk-toggleable__label sk-toggleable__label-arrow\">LogisticRegression</label><div class=\"sk-toggleable__content\"><pre>LogisticRegression(max_iter=1000)</pre></div></div></div></div></div>"
      ],
      "text/plain": [
       "LogisticRegression(max_iter=1000)"
      ]
     },
     "execution_count": 100,
     "metadata": {},
     "output_type": "execute_result"
    }
   ],
   "source": [
    "model1=LogisticRegression(max_iter=1000)\n",
    "model1.fit(X_train, y_train)"
   ]
  },
  {
   "cell_type": "markdown",
   "id": "d1a1a2c6-53f1-4218-b1e2-d68d100f51b1",
   "metadata": {},
   "source": [
    "# Optimising the Logistic Regression model "
   ]
  },
  {
   "cell_type": "code",
   "execution_count": 103,
   "id": "42ce2478-21ea-4e53-91ed-83dd94046dd9",
   "metadata": {},
   "outputs": [],
   "source": [
    "from sklearn.model_selection import train_test_split, GridSearchCV\n",
    "param_grid = {\n",
    "    'C': [0.001, 0.01, 0.1, 1, 10, 100],  # Regularization strength\n",
    "    'penalty': ['l1', 'l2'],  # Type of regularization\n",
    "    'solver': ['liblinear', 'saga'],  # Solver to use\n",
    "    'max_iter': [100, 200, 500, 1000]  # Number of iterations\n",
    "}\n",
    "grid_search = GridSearchCV(\n",
    "    estimator=model1,\n",
    "    param_grid=param_grid,\n",
    "    cv=5,\n",
    "    scoring='accuracy',  # You can also use 'f1', 'precision', 'recall', etc.\n",
    "    n_jobs=-1  # Use all available cores\n",
    ")\n",
    "grid_search.fit(X_train, y_train)\n",
    "best_params = grid_search.best_params_\n",
    "best_score = grid_search.best_score_\n",
    "\n",
    "best_model = grid_search.best_estimator_\n",
    "y_pred = best_model.predict(X_test)"
   ]
  },
  {
   "cell_type": "code",
   "execution_count": 104,
   "id": "03ab6f88-39fa-46ca-8807-30556d72a88c",
   "metadata": {},
   "outputs": [
    {
     "name": "stdout",
     "output_type": "stream",
     "text": [
      "best parameters: {'C': 0.001, 'max_iter': 100, 'penalty': 'l1', 'solver': 'saga'}\n",
      "best score: 0.7371205422929561\n",
      "best model: LogisticRegression(C=0.001, penalty='l1', solver='saga')\n"
     ]
    }
   ],
   "source": [
    "print(\"best parameters:\",best_params)\n",
    "print(\"best score:\",best_score)\n",
    "best_model=grid_search.best_estimator_\n",
    "print(\"best model:\",best_model)"
   ]
  },
  {
   "cell_type": "code",
   "execution_count": 106,
   "id": "fffd0003-809c-49d6-a384-21563220fe81",
   "metadata": {},
   "outputs": [],
   "source": [
    "from sklearn.metrics import accuracy_score, precision_score, recall_score, f1_score, confusion_matrix\n",
    "y_pred=best_model.predict(X_test)\n"
   ]
  },
  {
   "cell_type": "code",
   "execution_count": 107,
   "id": "40c53e95-32d8-491f-974b-7dcf323554bd",
   "metadata": {},
   "outputs": [
    {
     "data": {
      "text/plain": [
       "0.5829528853177501"
      ]
     },
     "execution_count": 107,
     "metadata": {},
     "output_type": "execute_result"
    }
   ],
   "source": [
    "precision=precision_score(y_test, y_pred, average='weighted', zero_division=0)\n",
    "precision"
   ]
  },
  {
   "cell_type": "code",
   "execution_count": 108,
   "id": "66f6703b-41a1-4f45-bf4d-c35e8ea1ae61",
   "metadata": {},
   "outputs": [
    {
     "data": {
      "text/plain": [
       "0.6611266438852645"
      ]
     },
     "execution_count": 108,
     "metadata": {},
     "output_type": "execute_result"
    }
   ],
   "source": [
    "f1score=f1_score(y_test, y_pred, average='weighted')\n",
    "f1score"
   ]
  },
  {
   "cell_type": "code",
   "execution_count": 109,
   "id": "28711bac-1014-4af3-87d0-c5fe36eed506",
   "metadata": {},
   "outputs": [
    {
     "data": {
      "text/plain": [
       "76.35135135135135"
      ]
     },
     "execution_count": 109,
     "metadata": {},
     "output_type": "execute_result"
    }
   ],
   "source": [
    "accuracy_score=accuracy_score(y_test,y_pred)\n",
    "accuracy_score*100"
   ]
  },
  {
   "cell_type": "markdown",
   "id": "d046c2f4-ec00-4985-8935-ac21ef5a8ebf",
   "metadata": {},
   "source": [
    "# Training the model using Decision tree "
   ]
  },
  {
   "cell_type": "code",
   "execution_count": 110,
   "id": "399110c0-292a-4e93-a5c1-04494c6c7721",
   "metadata": {},
   "outputs": [
    {
     "data": {
      "text/html": [
       "<style>#sk-container-id-10 {color: black;background-color: white;}#sk-container-id-10 pre{padding: 0;}#sk-container-id-10 div.sk-toggleable {background-color: white;}#sk-container-id-10 label.sk-toggleable__label {cursor: pointer;display: block;width: 100%;margin-bottom: 0;padding: 0.3em;box-sizing: border-box;text-align: center;}#sk-container-id-10 label.sk-toggleable__label-arrow:before {content: \"▸\";float: left;margin-right: 0.25em;color: #696969;}#sk-container-id-10 label.sk-toggleable__label-arrow:hover:before {color: black;}#sk-container-id-10 div.sk-estimator:hover label.sk-toggleable__label-arrow:before {color: black;}#sk-container-id-10 div.sk-toggleable__content {max-height: 0;max-width: 0;overflow: hidden;text-align: left;background-color: #f0f8ff;}#sk-container-id-10 div.sk-toggleable__content pre {margin: 0.2em;color: black;border-radius: 0.25em;background-color: #f0f8ff;}#sk-container-id-10 input.sk-toggleable__control:checked~div.sk-toggleable__content {max-height: 200px;max-width: 100%;overflow: auto;}#sk-container-id-10 input.sk-toggleable__control:checked~label.sk-toggleable__label-arrow:before {content: \"▾\";}#sk-container-id-10 div.sk-estimator input.sk-toggleable__control:checked~label.sk-toggleable__label {background-color: #d4ebff;}#sk-container-id-10 div.sk-label input.sk-toggleable__control:checked~label.sk-toggleable__label {background-color: #d4ebff;}#sk-container-id-10 input.sk-hidden--visually {border: 0;clip: rect(1px 1px 1px 1px);clip: rect(1px, 1px, 1px, 1px);height: 1px;margin: -1px;overflow: hidden;padding: 0;position: absolute;width: 1px;}#sk-container-id-10 div.sk-estimator {font-family: monospace;background-color: #f0f8ff;border: 1px dotted black;border-radius: 0.25em;box-sizing: border-box;margin-bottom: 0.5em;}#sk-container-id-10 div.sk-estimator:hover {background-color: #d4ebff;}#sk-container-id-10 div.sk-parallel-item::after {content: \"\";width: 100%;border-bottom: 1px solid gray;flex-grow: 1;}#sk-container-id-10 div.sk-label:hover label.sk-toggleable__label {background-color: #d4ebff;}#sk-container-id-10 div.sk-serial::before {content: \"\";position: absolute;border-left: 1px solid gray;box-sizing: border-box;top: 0;bottom: 0;left: 50%;z-index: 0;}#sk-container-id-10 div.sk-serial {display: flex;flex-direction: column;align-items: center;background-color: white;padding-right: 0.2em;padding-left: 0.2em;position: relative;}#sk-container-id-10 div.sk-item {position: relative;z-index: 1;}#sk-container-id-10 div.sk-parallel {display: flex;align-items: stretch;justify-content: center;background-color: white;position: relative;}#sk-container-id-10 div.sk-item::before, #sk-container-id-10 div.sk-parallel-item::before {content: \"\";position: absolute;border-left: 1px solid gray;box-sizing: border-box;top: 0;bottom: 0;left: 50%;z-index: -1;}#sk-container-id-10 div.sk-parallel-item {display: flex;flex-direction: column;z-index: 1;position: relative;background-color: white;}#sk-container-id-10 div.sk-parallel-item:first-child::after {align-self: flex-end;width: 50%;}#sk-container-id-10 div.sk-parallel-item:last-child::after {align-self: flex-start;width: 50%;}#sk-container-id-10 div.sk-parallel-item:only-child::after {width: 0;}#sk-container-id-10 div.sk-dashed-wrapped {border: 1px dashed gray;margin: 0 0.4em 0.5em 0.4em;box-sizing: border-box;padding-bottom: 0.4em;background-color: white;}#sk-container-id-10 div.sk-label label {font-family: monospace;font-weight: bold;display: inline-block;line-height: 1.2em;}#sk-container-id-10 div.sk-label-container {text-align: center;}#sk-container-id-10 div.sk-container {/* jupyter's `normalize.less` sets `[hidden] { display: none; }` but bootstrap.min.css set `[hidden] { display: none !important; }` so we also need the `!important` here to be able to override the default hidden behavior on the sphinx rendered scikit-learn.org. See: https://github.com/scikit-learn/scikit-learn/issues/21755 */display: inline-block !important;position: relative;}#sk-container-id-10 div.sk-text-repr-fallback {display: none;}</style><div id=\"sk-container-id-10\" class=\"sk-top-container\"><div class=\"sk-text-repr-fallback\"><pre>DecisionTreeClassifier(random_state=42)</pre><b>In a Jupyter environment, please rerun this cell to show the HTML representation or trust the notebook. <br />On GitHub, the HTML representation is unable to render, please try loading this page with nbviewer.org.</b></div><div class=\"sk-container\" hidden><div class=\"sk-item\"><div class=\"sk-estimator sk-toggleable\"><input class=\"sk-toggleable__control sk-hidden--visually\" id=\"sk-estimator-id-10\" type=\"checkbox\" checked><label for=\"sk-estimator-id-10\" class=\"sk-toggleable__label sk-toggleable__label-arrow\">DecisionTreeClassifier</label><div class=\"sk-toggleable__content\"><pre>DecisionTreeClassifier(random_state=42)</pre></div></div></div></div></div>"
      ],
      "text/plain": [
       "DecisionTreeClassifier(random_state=42)"
      ]
     },
     "execution_count": 110,
     "metadata": {},
     "output_type": "execute_result"
    }
   ],
   "source": [
    "\n",
    "model.fit(X_train, y_train)"
   ]
  },
  {
   "cell_type": "code",
   "execution_count": 111,
   "id": "eca6fdc1-0728-4b6d-ad21-f7d0c7eff16d",
   "metadata": {},
   "outputs": [],
   "source": [
    "y_pred = model.predict(X_test)"
   ]
  },
  {
   "cell_type": "code",
   "execution_count": 112,
   "id": "226568f4-4382-404c-afa2-cddbb105bca9",
   "metadata": {},
   "outputs": [
    {
     "data": {
      "text/plain": [
       "array([1., 1., 1., 1., 1., 1., 1., 1., 1., 1., 1., 1., 1., 1., 0., 1., 1.,\n",
       "       0., 1., 0., 1., 1., 1., 1., 1., 1., 0., 1., 1., 1., 1., 1., 1., 1.,\n",
       "       1., 1., 1., 1., 1., 0., 1., 1., 1., 1., 1., 1., 1., 1., 1., 1., 1.,\n",
       "       1., 1., 1., 1., 1., 1., 1., 1., 1., 1., 1., 1., 0., 1., 1., 1., 1.,\n",
       "       1., 1., 1., 1., 0., 1., 1., 1., 1., 1., 1., 1., 1., 0., 1., 1., 1.,\n",
       "       1., 1., 1., 1., 1., 1., 1., 1., 1., 1., 1., 1., 1., 1., 1., 1., 1.,\n",
       "       0., 1., 1., 0., 1., 1., 1., 1., 1., 0., 1., 0., 1., 0., 1., 1., 1.,\n",
       "       1., 1., 1., 1., 1., 0., 1., 1., 1., 1., 1., 1., 1., 1., 1., 1., 1.,\n",
       "       1., 1., 0., 1., 1., 1., 0., 1., 1., 1., 1., 1.])"
      ]
     },
     "execution_count": 112,
     "metadata": {},
     "output_type": "execute_result"
    }
   ],
   "source": [
    "y_pred"
   ]
  },
  {
   "cell_type": "code",
   "execution_count": 113,
   "id": "64ee7d7f-debd-4db4-a39d-c14d79cf6cb7",
   "metadata": {},
   "outputs": [
    {
     "name": "stdout",
     "output_type": "stream",
     "text": [
      "Accuracy: 0.75\n"
     ]
    }
   ],
   "source": [
    "from sklearn.metrics import accuracy_score, precision_score, recall_score, f1_score, confusion_matrix\n",
    "accuracy = accuracy_score(y_test, y_pred)\n",
    "print(f\"Accuracy: {accuracy}\")\n",
    "\n"
   ]
  },
  {
   "cell_type": "markdown",
   "id": "b3b38f63-5e64-4a7a-8aaf-cdcbdea2ef29",
   "metadata": {},
   "source": [
    "# Optimising the model using Hyperparameter tuning"
   ]
  },
  {
   "cell_type": "code",
   "execution_count": 114,
   "id": "20ff9575-54ef-4d2e-b060-b4ff68b951f3",
   "metadata": {},
   "outputs": [
    {
     "name": "stdout",
     "output_type": "stream",
     "text": [
      "Optimized Accuracy: 0.7635135135135135\n"
     ]
    }
   ],
   "source": [
    "from sklearn.model_selection import GridSearchCV\n",
    "\n",
    "# Define the parameter grid\n",
    "param_grid = {\n",
    "    'max_depth': [None, 10, 20, 30],\n",
    "    'min_samples_split': [2, 5, 10],\n",
    "    'min_samples_leaf': [1, 2, 4],\n",
    "    'max_features': [None, 'sqrt', 'log2']\n",
    "}\n",
    "\n",
    "# Initialize the Decision Tree model\n",
    "model = DecisionTreeClassifier(random_state=42)\n",
    "\n",
    "# Initialize GridSearchCV\n",
    "grid_search = GridSearchCV(model, param_grid, cv=5, scoring='accuracy')\n",
    "\n",
    "# Fit the model\n",
    "grid_search.fit(X_train, y_train)\n",
    "\n",
    "# Get the best model\n",
    "best_model = grid_search.best_estimator_\n",
    "\n",
    "# Make predictions and evaluate\n",
    "y_pred = best_model.predict(X_test)\n",
    "accuracy = accuracy_score(y_test, y_pred)\n",
    "print(f\"Optimized Accuracy: {accuracy}\")"
   ]
  },
  {
   "cell_type": "code",
   "execution_count": 115,
   "id": "c81daa67-5563-4c6f-a520-eb76bfff67f4",
   "metadata": {},
   "outputs": [
    {
     "name": "stdout",
     "output_type": "stream",
     "text": [
      "Cross-Validation Scores: [0.69230769 0.73504274 0.68965517 0.73275862 0.72413793]\n",
      "Average Cross-Validation Score: 0.7147804302976717\n"
     ]
    }
   ],
   "source": [
    "from sklearn.model_selection import cross_val_score\n",
    "\n",
    "# Perform cross-validation\n",
    "cv_scores = cross_val_score(best_model, X_train, y_train, cv=5)\n",
    "print(f\"Cross-Validation Scores: {cv_scores}\")\n",
    "print(f\"Average Cross-Validation Score: {cv_scores.mean()}\")"
   ]
  },
  {
   "cell_type": "code",
   "execution_count": 116,
   "id": "c76630fa-f46e-4fcf-983b-792622ad781e",
   "metadata": {},
   "outputs": [
    {
     "data": {
      "text/plain": [
       "0.703952239911144"
      ]
     },
     "execution_count": 116,
     "metadata": {},
     "output_type": "execute_result"
    }
   ],
   "source": [
    "precision=precision_score(y_test,y_pred,average='weighted')\n",
    "precision"
   ]
  },
  {
   "cell_type": "code",
   "execution_count": 117,
   "id": "21ecd77f-9b1b-4386-8232-547974731645",
   "metadata": {},
   "outputs": [],
   "source": [
    "f1=f1_score(y_test,y_pred,average='weighted')"
   ]
  },
  {
   "cell_type": "code",
   "execution_count": 118,
   "id": "1e7125a7-fa29-4ad0-8403-2ffc6abdebb9",
   "metadata": {},
   "outputs": [
    {
     "data": {
      "text/plain": [
       "0.6731190650109569"
      ]
     },
     "execution_count": 118,
     "metadata": {},
     "output_type": "execute_result"
    }
   ],
   "source": [
    "f1"
   ]
  },
  {
   "cell_type": "code",
   "execution_count": 119,
   "id": "c30186b7-14a4-4325-a865-68cab77038d4",
   "metadata": {},
   "outputs": [],
   "source": [
    "from sklearn.tree import DecisionTreeClassifier\n",
    "from sklearn.model_selection import GridSearchCV, train_test_split, cross_val_score\n",
    "from sklearn.metrics import accuracy_score, classification_report, confusion_matrix"
   ]
  },
  {
   "cell_type": "code",
   "execution_count": 120,
   "id": "3b1fe172-57e3-46d4-8b10-41c104b03788",
   "metadata": {},
   "outputs": [],
   "source": [
    "dt_model = DecisionTreeClassifier(random_state=42)\n",
    "\n",
    "# Define a parameter grid to search for the best hyperparameters\n",
    "param_grid = {\n",
    "    'max_depth': [3, 5, 10, 20, None],\n",
    "    'min_samples_split': [2, 5, 10],\n",
    "    'min_samples_leaf': [1, 2, 4],\n",
    "    'max_features': [None, 'sqrt', 'log2'],\n",
    "    'criterion': ['gini', 'entropy']\n",
    "}"
   ]
  },
  {
   "cell_type": "code",
   "execution_count": 121,
   "id": "a01632dd-f60d-4537-a3ea-00a801cd966f",
   "metadata": {},
   "outputs": [
    {
     "name": "stdout",
     "output_type": "stream",
     "text": [
      "Best Hyperparameters: {'criterion': 'gini', 'max_depth': 5, 'max_features': 'sqrt', 'min_samples_leaf': 4, 'min_samples_split': 2}\n"
     ]
    }
   ],
   "source": [
    "grid_search = GridSearchCV(estimator=dt_model, param_grid=param_grid, cv=5, n_jobs=-1, scoring='accuracy')\n",
    "\n",
    "# Fit GridSearchCV to the training data\n",
    "grid_search.fit(X_train, y_train)\n",
    "\n",
    "# Get the best model from grid search\n",
    "best_dt_model = grid_search.best_estimator_\n",
    "\n",
    "# Print the best hyperparameters\n",
    "print(f\"Best Hyperparameters: {grid_search.best_params_}\")"
   ]
  },
  {
   "cell_type": "code",
   "execution_count": 122,
   "id": "d0f4ba5c-3bde-4dc9-9433-aba3d6e8d251",
   "metadata": {},
   "outputs": [
    {
     "name": "stdout",
     "output_type": "stream",
     "text": [
      "Test Accuracy: 0.777027027027027\n",
      "              precision    recall  f1-score   support\n",
      "\n",
      "         0.0       1.00      0.06      0.11        35\n",
      "         1.0       0.77      1.00      0.87       113\n",
      "\n",
      "    accuracy                           0.78       148\n",
      "   macro avg       0.89      0.53      0.49       148\n",
      "weighted avg       0.83      0.78      0.69       148\n",
      "\n",
      "[[  2  33]\n",
      " [  0 113]]\n"
     ]
    }
   ],
   "source": [
    "y_pred = best_dt_model.predict(X_test)\n",
    "\n",
    "# Evaluate the model\n",
    "test_accuracy = accuracy_score(y_test, y_pred)\n",
    "print(f\"Test Accuracy: {test_accuracy}\")\n",
    "\n",
    "# Detailed classification report\n",
    "print(classification_report(y_test, y_pred))\n",
    "\n",
    "# Confusion matrix\n",
    "print(confusion_matrix(y_test, y_pred))"
   ]
  },
  {
   "cell_type": "code",
   "execution_count": 123,
   "id": "afc0f346-5441-45da-ad16-d34bd1bccd72",
   "metadata": {},
   "outputs": [
    {
     "name": "stdout",
     "output_type": "stream",
     "text": [
      "Cross-Validation Scores: [0.73504274 0.70940171 0.73275862 0.74137931 0.75      ]\n",
      "Average Cross-Validation Score: 0.7337164750957855\n"
     ]
    }
   ],
   "source": [
    "cv_scores = cross_val_score(best_dt_model, X_train, y_train, cv=5)\n",
    "\n",
    "print(f\"Cross-Validation Scores: {cv_scores}\")\n",
    "print(f\"Average Cross-Validation Score: {cv_scores.mean()}\")"
   ]
  },
  {
   "cell_type": "code",
   "execution_count": 124,
   "id": "628aa708-4471-48d2-be58-382596d09525",
   "metadata": {},
   "outputs": [
    {
     "data": {
      "text/plain": [
       "0.777027027027027"
      ]
     },
     "execution_count": 124,
     "metadata": {},
     "output_type": "execute_result"
    }
   ],
   "source": [
    "accuracy = accuracy_score(y_test, y_pred)\n",
    "accuracy"
   ]
  },
  {
   "cell_type": "code",
   "execution_count": 125,
   "id": "0432ff73-25f6-4f51-971b-4a4f3ec912fd",
   "metadata": {},
   "outputs": [
    {
     "data": {
      "text/plain": [
       "0.8274250277674935"
      ]
     },
     "execution_count": 125,
     "metadata": {},
     "output_type": "execute_result"
    }
   ],
   "source": [
    "precision=precision_score(y_test,y_pred,average='weighted')\n",
    "precision"
   ]
  },
  {
   "cell_type": "code",
   "execution_count": 126,
   "id": "e8642e5b-4504-456e-8517-867162e1dd55",
   "metadata": {},
   "outputs": [
    {
     "data": {
      "text/plain": [
       "0.6917979755817594"
      ]
     },
     "execution_count": 126,
     "metadata": {},
     "output_type": "execute_result"
    }
   ],
   "source": [
    "f1=f1_score(y_test,y_pred,average='weighted')\n",
    "f1"
   ]
  },
  {
   "cell_type": "markdown",
   "id": "ce5da777-27ab-4a50-887f-ad88b15f91f9",
   "metadata": {},
   "source": [
    "# Optimising the model using Random Forest"
   ]
  },
  {
   "cell_type": "code",
   "execution_count": 127,
   "id": "c670f2e3-f94b-4d20-a608-cbfc56ef4574",
   "metadata": {},
   "outputs": [
    {
     "name": "stdout",
     "output_type": "stream",
     "text": [
      "Random Forest Test Accuracy: 0.777027027027027\n"
     ]
    }
   ],
   "source": [
    "from sklearn.ensemble import RandomForestClassifier\n",
    "\n",
    "# Initialize the RandomForestClassifier\n",
    "rf_model = RandomForestClassifier(random_state=42)\n",
    "\n",
    "# Train the model\n",
    "rf_model.fit(X_train, y_train)\n",
    "\n",
    "# Predictions and evaluation\n",
    "y_pred_rf = rf_model.predict(X_test)\n",
    "accuracy_rf = accuracy_score(y_test, y_pred_rf)\n",
    "\n",
    "print(f\"Random Forest Test Accuracy: {accuracy_rf}\")"
   ]
  },
  {
   "cell_type": "code",
   "execution_count": 128,
   "id": "24d9732d-ec49-4084-a888-fc32671b8dc8",
   "metadata": {},
   "outputs": [
    {
     "data": {
      "text/plain": [
       "0.8274250277674935"
      ]
     },
     "execution_count": 128,
     "metadata": {},
     "output_type": "execute_result"
    }
   ],
   "source": [
    "precision=precision_score(y_test,y_pred,average='weighted')\n",
    "precision"
   ]
  },
  {
   "cell_type": "code",
   "execution_count": 129,
   "id": "9856a477-bedb-4ab7-8536-8ba2461c7439",
   "metadata": {},
   "outputs": [
    {
     "data": {
      "text/plain": [
       "0.6917979755817594"
      ]
     },
     "execution_count": 129,
     "metadata": {},
     "output_type": "execute_result"
    }
   ],
   "source": [
    "f1=f1_score(y_test,y_pred,average='weighted')\n",
    "f1"
   ]
  },
  {
   "cell_type": "code",
   "execution_count": 139,
   "id": "4c880f46-2b20-4354-9770-019e4b15b629",
   "metadata": {},
   "outputs": [
    {
     "data": {
      "image/png": "[encoded data removed]",
      "text/plain": [
       "<Figure size 800x600 with 2 Axes>"
      ]
     },
     "metadata": {},
     "output_type": "display_data"
    }
   ],
   "source": [
    "cm = confusion_matrix(y_test, y_pred)\n",
    "\n",
    "# Plotting the confusion matrix\n",
    "plt.figure(figsize=(8, 6))\n",
    "sns.heatmap(cm, annot=True, fmt='d', cmap='Blues', \n",
    "            xticklabels=['Class 0', 'Class 1'],  # Adjust class labels as needed\n",
    "            yticklabels=['Class 0', 'Class 1'])  # Adjust class labels as needed\n",
    "plt.xlabel('Predicted Labels')\n",
    "plt.ylabel('True Labels')\n",
    "plt.title('Confusion Matrix')\n",
    "plt.show()"
   ]
  },
  {
   "cell_type": "code",
   "execution_count": null,
   "id": "f0c20474-b57f-4547-918f-a65231be7e0b",
   "metadata": {},
   "outputs": [],
   "source": []
  }
 ],
 "metadata": {
  "kernelspec": {
   "display_name": "Python 3 (ipykernel)",
   "language": "python",
   "name": "python3"
  },
  "language_info": {
   "codemirror_mode": {
    "name": "ipython",
    "version": 3
   },
   "file_extension": ".py",
   "mimetype": "text/x-python",
   "name": "python",
   "nbconvert_exporter": "python",
   "pygments_lexer": "ipython3",
   "version": "3.11.7"
  }
 },
 "nbformat": 4,
 "nbformat_minor": 5
}
